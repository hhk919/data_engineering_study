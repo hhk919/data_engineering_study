{
  "nbformat": 4,
  "nbformat_minor": 0,
  "metadata": {
    "colab": {
      "name": "data_engineering_study_practice_3.ipynb",
      "provenance": [],
      "collapsed_sections": []
    },
    "kernelspec": {
      "name": "python3",
      "display_name": "Python 3"
    }
  },
  "cells": [
    {
      "cell_type": "markdown",
      "metadata": {
        "id": "B1accFzBw67v",
        "colab_type": "text"
      },
      "source": [
        "ASSIGNMENT 1\n",
        "\n",
        "Colab Python 예제에 있는 두 가지 문제를 수정하기 \n",
        "\n",
        "1) 헤더의 값이 들어가는 이슈 제거 \n",
        "\n",
        "2) 현재 잡을 수행할 때마다 테이블에 레코드들이 들어가는데 이를 idempotent하게 수정하기\n"
      ]
    },
    {
      "cell_type": "code",
      "metadata": {
        "id": "X2uutd2cSH3v",
        "colab_type": "code",
        "colab": {}
      },
      "source": [
        "# 1. 헤더의 값이 들어가는 이슈 제거\n",
        "def transform(text):\n",
        "    lines = text.split(\"\\n\")\n",
        "\n",
        "    # lines의 첫 element는 column 이름이므로 제외시켜준다.    \n",
        "    # return lines\n",
        "    return lines[1:]"
      ],
      "execution_count": null,
      "outputs": []
    },
    {
      "cell_type": "code",
      "metadata": {
        "id": "3KhXZPszTwWv",
        "colab_type": "code",
        "colab": {}
      },
      "source": [
        "# 2. 현재 잡을 수행할 때마다 테이블에 레코드들이 들어가는데 이를 idempotent하게 수정하기\n",
        "\n",
        "# load함수가 idempotent하려면 동일한 data를 한 번 입력했을 때 return되는 결과와 여러번 입력했을 때 return되는 결과가 같아야한다.\n",
        "# 따라서 insert하기 전에 table에 입력되는 data가 이미 존재할 경우 해당 data를 삭제하고 새로 입력한다. 만약 입력되는 데이터 전체가 이미 table에 존재한다면 truncate가 더 효율적이다.\n",
        "\n",
        "def load(text):\n",
        "    cur = get_Redshift_connection()\n",
        "    # 입력되는 데이터 전체가 이미 table에 존재할 경우\n",
        "    sql = \"BEGIN; TRUNCATE TABLE hankyoul0919.name_gender; END;\"\n",
        "\n",
        "    cur.execute(sql);\n",
        "    for r in text:\n",
        "        if r != '':\n",
        "            (name, gender) = r.split(\",\")\n",
        "            \n",
        "            # 입력되는 데이터 전체가 이미 table에 존재할 경우\n",
        "            sql = \"BEGIN; INSERT INTO hankyoul0919.name_gender VALUES ('{name}', '{gender}'); END;\".format(name=name, gender=gender)\n",
        "            \n",
        "            # 입력되는 데이터 일부만 table에 존재할 경우\n",
        "            # sql = \"BEGIN; DELETE FROM hankyoul0919.name_gender WHERE (name={name} and gender={gender}); INSERT INTO hankyoul0919.name_gender VALUES ('{name}', '{gender}'); END;\".format(name=name, gender=gender)\n",
        "            \n",
        "            cur.execute(sql)"
      ],
      "execution_count": null,
      "outputs": []
    },
    {
      "cell_type": "markdown",
      "metadata": {
        "id": "bkPm43y6P_M0",
        "colab_type": "text"
      },
      "source": [
        "ASSIGNMENT2\n",
        "\n",
        "Colab Python 예제를 Airflow의 DAG 포맷으로 바꿔보기. \n",
        "\n",
        "* extract, transform, load를 각기 task로 만들지말고 하나의 task안에서 이 세가지를 다 호출.\n",
        "\n"
      ]
    },
    {
      "cell_type": "code",
      "metadata": {
        "id": "22HMhmHPQkeL",
        "colab_type": "code",
        "colab": {}
      },
      "source": [
        "import psycopg2\n",
        "\n",
        "# Redshift connection 함수\n",
        "def get_Redshift_connection():\n",
        "    host = \"grepp-data.cduaw970ssvt.ap-northeast-2.redshift.amazonaws.com\"\n",
        "    redshift_user = \"hankyoul0919\"\n",
        "    redshift_pass = \"Hankyoul09191!\"\n",
        "    port = 5439\n",
        "    dbname = \"dev\"\n",
        "    conn = psycopg2.connect(\"dbname={dbname} user={user} host={host} password={password} port={port}\".format(\n",
        "        dbname=dbname,\n",
        "        user=redshift_user,\n",
        "        password=redshift_pass,\n",
        "        host=host,\n",
        "        port=port\n",
        "    ))\n",
        "    conn.set_session(autocommit=True)\n",
        "    return conn.cursor()"
      ],
      "execution_count": null,
      "outputs": []
    },
    {
      "cell_type": "code",
      "metadata": {
        "id": "SG5CAdEZQV62",
        "colab_type": "code",
        "colab": {}
      },
      "source": [
        "import requests\n",
        "\n",
        "def ETL() :\n",
        "  link = \"https://s3-geospatial.s3-us-west-2.amazonaws.com/name_gender.csv\"\n",
        "  cur = get_Redshift_connection()\n",
        "  extract = requests.get(link).text\n",
        "  transform = extract.split('\\n')[1:]\n",
        "  truncate = \"BEGIN; TRUNCATE TABLE hankyoul0919.name_gender; END;\"\n",
        "  cur.execute(truncate)\n",
        "  \n",
        "  for row in transform :\n",
        "    if row != '' :\n",
        "      name, gender = row.split(',')\n",
        "      load = \"BEGIN; INSERT INTO hankyoul0919.name_gender VALUES ('{name}', '{gender}'); END;\".format(name=name, gender=gender)\n",
        "      cur.execute(load)\n",
        "      # print(cur.statusmessage) --> COMMIT\n",
        "\n",
        "\n",
        "\n"
      ],
      "execution_count": null,
      "outputs": []
    },
    {
      "cell_type": "code",
      "metadata": {
        "id": "bp-Q-Qq62LM0",
        "colab_type": "code",
        "colab": {}
      },
      "source": [
        "ETL()"
      ],
      "execution_count": null,
      "outputs": []
    }
  ]
}