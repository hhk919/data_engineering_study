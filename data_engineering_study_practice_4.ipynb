{
  "nbformat": 4,
  "nbformat_minor": 0,
  "metadata": {
    "colab": {
      "name": "data_engineering_study_practice_4.ipynb",
      "provenance": [],
      "collapsed_sections": [],
      "authorship_tag": "ABX9TyNfAUBUfPo7xK6MEs+VYDfU",
      "include_colab_link": true
    },
    "kernelspec": {
      "name": "python3",
      "display_name": "Python 3"
    }
  },
  "cells": [
    {
      "cell_type": "markdown",
      "metadata": {
        "id": "view-in-github",
        "colab_type": "text"
      },
      "source": [
        "<a href=\"https://colab.research.google.com/github/hhk919/data_engineering_study/blob/hhk919-assignment-week5%266/data_engineering_study_practice_4.ipynb\" target=\"_parent\"><img src=\"https://colab.research.google.com/assets/colab-badge.svg\" alt=\"Open In Colab\"/></a>"
      ]
    },
    {
      "cell_type": "markdown",
      "metadata": {
        "id": "J8etJKoIt7MH",
        "colab_type": "text"
      },
      "source": [
        "ASSIGNMENT 1\n",
        "\n",
        "오늘 내용 정리(5주차)\n",
        "  * Postgres(raw_data)를 local disk에 tsv형식으로 저장한 다음 Redshift로 한번에 저장하기 위해 AWS S3 bucket에 업로드한다.\n",
        "  * S3에 접근하기 위해서는 credential이 필요한데 요즘은 iam role(role arn)을 사용한다.\n",
        "  * airflow는 python기반으로 만들어졌고, web ui는 Flask로 작성되어 있다. \n",
        "  * ETL 파일(-.py)에 필요한 variable과 connection은 파일 내부에 하드코딩하는 것보다 airflow의 variable, connection에 변수를 저장해 동적으로 사용하는 것이 좋다.\n",
        "\n",
        "따라서\n",
        "<center>\n",
        "<img src=\"https://drive.google.com/uc?export=download&id=1R1r7KzGUMM-S3GvIhsAjrhwwogmsG015\">\n",
        "</center>\n",
        "\n",
        "<br>\n",
        "connection : Postgres connection 정보, Redshift connection 정보, S3 connection 정보\n",
        "\n",
        "* airflow의 hook객체로 저장된다.\n",
        "\n",
        "variable : csv_url, S3 credential에 사용되는 iam role arn\n",
        "\n",
        "* airflow.models의 Variable객체로 저장된다.\n",
        "\n",
        "\n",
        "\n",
        "\n"
      ]
    },
    {
      "cell_type": "markdown",
      "metadata": {
        "id": "PMsPc63rGwJ_",
        "colab_type": "text"
      },
      "source": [
        "\n",
        "\n",
        "---\n",
        "\n"
      ]
    },
    {
      "cell_type": "markdown",
      "metadata": {
        "id": "EslMxFBhNaV_",
        "colab_type": "text"
      },
      "source": [
        "ASSIGNMENT2\n",
        "\n",
        "item_features table, customer_interactions table 추가해보기\n",
        "\n",
        "- Postgres_to_Redshift.py table 배열에 \"item_features\"와 \"customer_interactions\" 추가"
      ]
    },
    {
      "cell_type": "code",
      "metadata": {
        "id": "Z-jOcHClTrMI",
        "colab_type": "code",
        "colab": {
          "base_uri": "https://localhost:8080/",
          "height": 72
        },
        "outputId": "c49707f2-6fdb-4f15-e4cf-98b8d9d7eadf"
      },
      "source": [
        "import psycopg2"
      ],
      "execution_count": 1,
      "outputs": [
        {
          "output_type": "stream",
          "text": [
            "/usr/local/lib/python3.6/dist-packages/psycopg2/__init__.py:144: UserWarning: The psycopg2 wheel package will be renamed from release 2.8; in order to keep installing from binary please use \"pip install psycopg2-binary\" instead. For details see: <http://initd.org/psycopg/docs/install.html#binary-install-from-pypi>.\n",
            "  \"\"\")\n"
          ],
          "name": "stderr"
        }
      ]
    },
    {
      "cell_type": "code",
      "metadata": {
        "id": "cz5T2tFITzH9",
        "colab_type": "code",
        "colab": {}
      },
      "source": [
        "conn = psycopg2.connect(\n",
        "    host = \"grepp-data.cduaw970ssvt.ap-northeast-2.redshift.amazonaws.com\",\n",
        "    port = 5439,\n",
        "    dbname = \"dev\",\n",
        "    user = \"hankyoul0919\",\n",
        "    password = \"Hankyoul09191!\"\n",
        ")\n",
        "\n",
        "cursor = conn.cursor()"
      ],
      "execution_count": 2,
      "outputs": []
    },
    {
      "cell_type": "code",
      "metadata": {
        "id": "cH8wOABnBSug",
        "colab_type": "code",
        "colab": {
          "base_uri": "https://localhost:8080/",
          "height": 210
        },
        "outputId": "4fd762c6-5fc8-42b4-afc1-0d0bafe53c8c"
      },
      "source": [
        "sql = \"select * from hankyoul0919.item_features limit 10;\"\n",
        "cursor.execute(sql)\n",
        "\n",
        "col_name = [desc[0] for desc in cursor.description]\n",
        "\n",
        "print(col_name)\n",
        "cursor.fetchall()"
      ],
      "execution_count": null,
      "outputs": [
        {
          "output_type": "stream",
          "text": [
            "['item_id', 'quality', 'popularity', 'price']\n"
          ],
          "name": "stdout"
        },
        {
          "output_type": "execute_result",
          "data": {
            "text/plain": [
              "[(0, 3.1, 'less_popular', 11),\n",
              " (1, 4.3, 'new_item', 19),\n",
              " (2, 3.8, 'less_popular', 47),\n",
              " (3, 3.5, 'less_popular', 13),\n",
              " (4, 4.4, 'less_popular', 11),\n",
              " (5, 4.7, 'new_item', 34),\n",
              " (6, 3.6, 'less_popular', 19),\n",
              " (7, 2.0, 'more_popular', 25),\n",
              " (8, 3.7, 'new_item', 41),\n",
              " (9, 3.9, 'less_popular', 11)]"
            ]
          },
          "metadata": {
            "tags": []
          },
          "execution_count": 17
        }
      ]
    },
    {
      "cell_type": "code",
      "metadata": {
        "id": "6AV-oENZBffB",
        "colab_type": "code",
        "colab": {
          "base_uri": "https://localhost:8080/",
          "height": 210
        },
        "outputId": "45e51060-c08d-4e4a-b59f-8477a2015bd0"
      },
      "source": [
        "sql = \"select * from hankyoul0919.customer_interactions limit 10\"\n",
        "cursor.execute(sql)\n",
        "\n",
        "col_name = [desc[0] for desc in cursor.description]\n",
        "\n",
        "print(col_name)\n",
        "cursor.fetchall()"
      ],
      "execution_count": null,
      "outputs": [
        {
          "output_type": "stream",
          "text": [
            "['customer_id', 'datestamp', 'item_id', 'clicked', 'purchased', 'paidamount']\n"
          ],
          "name": "stdout"
        },
        {
          "output_type": "execute_result",
          "data": {
            "text/plain": [
              "[(0, datetime.date(2016, 4, 11), 16, 1, 0, 0),\n",
              " (0, datetime.date(2016, 4, 11), 7, 1, 1, 25),\n",
              " (0, datetime.date(2016, 4, 11), 86, 1, 0, 0),\n",
              " (0, datetime.date(2016, 4, 14), 22, 0, 0, 0),\n",
              " (0, datetime.date(2016, 4, 14), 62, 1, 0, 0),\n",
              " (1, datetime.date(2016, 4, 11), 27, 1, 0, 0),\n",
              " (10, datetime.date(2016, 4, 12), 41, 0, 0, 0),\n",
              " (100, datetime.date(2016, 4, 11), 51, 0, 0, 0),\n",
              " (100, datetime.date(2016, 4, 11), 63, 0, 0, 0),\n",
              " (100, datetime.date(2016, 4, 11), 85, 0, 0, 0)]"
            ]
          },
          "metadata": {
            "tags": []
          },
          "execution_count": 18
        }
      ]
    },
    {
      "cell_type": "markdown",
      "metadata": {
        "id": "hsrQQ__YJdxn",
        "colab_type": "text"
      },
      "source": [
        "\n",
        "\n",
        "---\n",
        "\n"
      ]
    },
    {
      "cell_type": "markdown",
      "metadata": {
        "id": "UsXgvgJuJemU",
        "colab_type": "text"
      },
      "source": [
        "ASSIGNMENT3\n",
        "\n",
        "Summary table을 빌드해보기\n",
        "\n",
        "예를 들어 customer별로 클릭한 아이템의 수와 구매한 아이템의 수와 총 구매액을 정리해주는 테이블을 만들어볼 수 있다\n",
        "\n",
        "- build_summary.py에서는 config 디렉토리의 py파일을 읽어 eval함수로 파일 내용을 dict로 변환한다.\n",
        "- 새로운 summary table을 만들기 위해 목적에 맞는 쿼리문을 작성하면 된다.\n",
        "\n",
        "<br>\n",
        "\n",
        "customer별로 클릭한 아이템의 수와 구매한 아이템의 수와 총 구매액을 정리해주는 테이블\n",
        "\n",
        "→ conversion_summary.py <br>\n",
        "main sql : <br>\n",
        "'''select customer_id, sum(clicked) as clicked, sum(purchased) as purchased, sum(paidamount) as paidamount <br> \n",
        "from hankyoul0919.customer_interactions <br>\n",
        "group by 1 <br>\n",
        "order by 1 '''<br>\n",
        "<br>\n",
        "\n",
        "input_check : <br>\n",
        "sql : 'select count(1) from hankyoul0919.customer_interactions'<br>\n",
        "count : 100000 <br>\n",
        "<br>\n",
        "output_check : <br>\n",
        "sql : 'select count(1) from {schema}.temp_{table}'<br>\n",
        "count : 100000 <br>\n",
        "\n",
        "\n"
      ]
    },
    {
      "cell_type": "markdown",
      "metadata": {
        "id": "shiH4MiFFkmj",
        "colab_type": "text"
      },
      "source": [
        "airflow 실행 결과 :\n",
        "<center>\n",
        "<img src='https://docs.google.com/uc?export=download&id=1OMYqAPw4igEFGmW1hH1QGQyA07MJIeIi'\n",
        "</center>"
      ]
    },
    {
      "cell_type": "code",
      "metadata": {
        "id": "1072JqZKGPN8",
        "colab_type": "code",
        "colab": {
          "base_uri": "https://localhost:8080/",
          "height": 1000
        },
        "outputId": "eee7eb6e-d5c1-41e4-830d-83a1414d55d9"
      },
      "source": [
        "sql = 'select * from hankyoul0919.user_summary limit 10'\n",
        "cursor.execute(sql)\n",
        "\n",
        "col_name = [desc[0] for desc in cursor.description]\n",
        "\n",
        "print(col_name)\n",
        "cursor.fetchall()"
      ],
      "execution_count": 3,
      "outputs": [
        {
          "output_type": "stream",
          "text": [
            "['channelname', 'sessionid', 'userid', 'ts', 'refunded', 'amount']\n"
          ],
          "name": "stdout"
        },
        {
          "output_type": "execute_result",
          "data": {
            "text/plain": [
              "[('Naver',\n",
              "  'c41dd99a69df04044aa4e33ece9c9249',\n",
              "  184,\n",
              "  datetime.datetime(2019, 5, 1, 0, 35, 59, 897000),\n",
              "  None,\n",
              "  None),\n",
              " ('Facebook',\n",
              "  '0a54b19a13b6712dc04d1b49215423d8',\n",
              "  251,\n",
              "  datetime.datetime(2019, 5, 1, 12, 18, 26, 637000),\n",
              "  None,\n",
              "  None),\n",
              " ('Facebook',\n",
              "  '05ae14d7ae387b93370d142d82220f1b',\n",
              "  744,\n",
              "  datetime.datetime(2019, 5, 1, 14, 17, 54, 83000),\n",
              "  None,\n",
              "  None),\n",
              " ('Naver',\n",
              "  '4c4ea5258ef3fb3fb1fc48fee9b4408c',\n",
              "  265,\n",
              "  datetime.datetime(2019, 5, 1, 15, 8, 15, 557000),\n",
              "  None,\n",
              "  None),\n",
              " ('Youtube',\n",
              "  '60131a2a3f223dc8f4753bcc5771660c',\n",
              "  45,\n",
              "  datetime.datetime(2019, 5, 1, 15, 53, 7, 17000),\n",
              "  None,\n",
              "  None),\n",
              " ('Facebook',\n",
              "  '90f4760fcc9b69c13da7368c5c2917f3',\n",
              "  198,\n",
              "  datetime.datetime(2019, 5, 1, 16, 15, 43, 423000),\n",
              "  None,\n",
              "  None),\n",
              " ('Instagram',\n",
              "  '8c97dbeee3b0d40ced7f514b99a93d93',\n",
              "  702,\n",
              "  datetime.datetime(2019, 5, 1, 17, 53, 54, 350000),\n",
              "  None,\n",
              "  None),\n",
              " ('Naver',\n",
              "  'e10534dd65cf727692c0f9c44ba613f8',\n",
              "  341,\n",
              "  datetime.datetime(2019, 5, 1, 18, 32, 18, 390000),\n",
              "  False,\n",
              "  126),\n",
              " ('Youtube',\n",
              "  '569ff987c643b4bedf504efda8f786c2',\n",
              "  786,\n",
              "  datetime.datetime(2019, 5, 1, 23, 15, 46),\n",
              "  None,\n",
              "  None),\n",
              " ('Youtube',\n",
              "  '593906af0d138e69f49d251d3e7cbed0',\n",
              "  645,\n",
              "  datetime.datetime(2019, 5, 2, 0, 46, 40, 643000),\n",
              "  None,\n",
              "  None)]"
            ]
          },
          "metadata": {
            "tags": []
          },
          "execution_count": 3
        }
      ]
    },
    {
      "cell_type": "code",
      "metadata": {
        "id": "CpR-sDjEGf6N",
        "colab_type": "code",
        "colab": {
          "base_uri": "https://localhost:8080/",
          "height": 210
        },
        "outputId": "b1ccf608-6c19-4661-8b9a-db0b90a3cd02"
      },
      "source": [
        "sql = 'select * from hankyoul0919.conversion_summary limit 10'\n",
        "cursor.execute(sql)\n",
        "\n",
        "col_name = [desc[0] for desc in cursor.description]\n",
        "\n",
        "print(col_name)\n",
        "cursor.fetchall()"
      ],
      "execution_count": 4,
      "outputs": [
        {
          "output_type": "stream",
          "text": [
            "['customer_id', 'clicked', 'purchased', 'paidamount']\n"
          ],
          "name": "stdout"
        },
        {
          "output_type": "execute_result",
          "data": {
            "text/plain": [
              "[(2, 0, 0, 0),\n",
              " (4, 0, 0, 0),\n",
              " (5, 0, 0, 0),\n",
              " (7, 1, 0, 0),\n",
              " (9, 0, 0, 0),\n",
              " (10, 0, 0, 0),\n",
              " (15, 0, 0, 0),\n",
              " (16, 1, 0, 0),\n",
              " (18, 0, 0, 0),\n",
              " (19, 0, 0, 0)]"
            ]
          },
          "metadata": {
            "tags": []
          },
          "execution_count": 4
        }
      ]
    }
  ]
}